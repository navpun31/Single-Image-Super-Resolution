{
 "cells": [
  {
   "cell_type": "code",
   "execution_count": 1,
   "metadata": {},
   "outputs": [
    {
     "name": "stderr",
     "output_type": "stream",
     "text": [
      "Using TensorFlow backend.\n"
     ]
    }
   ],
   "source": [
    "import tensorflow as tf\n",
    "from keras import backend as K\n",
    "import matplotlib as mpl\n",
    "import matplotlib.pyplot as plt\n",
    "import numpy as np\n",
    "from scipy.misc import imresize\n",
    "import json\n",
    "import cv2\n",
    "\n",
    "%matplotlib inline"
   ]
  },
  {
   "cell_type": "code",
   "execution_count": 2,
   "metadata": {},
   "outputs": [
    {
     "ename": "NameError",
     "evalue": "name 'vdsr' is not defined",
     "output_type": "error",
     "traceback": [
      "\u001b[0;31m---------------------------------------------------------------------------\u001b[0m",
      "\u001b[0;31mNameError\u001b[0m                                 Traceback (most recent call last)",
      "\u001b[0;32m<ipython-input-2-76015628a026>\u001b[0m in \u001b[0;36m<module>\u001b[0;34m\u001b[0m\n\u001b[1;32m      2\u001b[0m \u001b[0;32mimport\u001b[0m \u001b[0mvdsr_predict\u001b[0m \u001b[0;32mas\u001b[0m \u001b[0mvdsr\u001b[0m\u001b[0;34m\u001b[0m\u001b[0m\n\u001b[1;32m      3\u001b[0m \u001b[0;32mimport\u001b[0m \u001b[0msrcnn_predict\u001b[0m \u001b[0;32mas\u001b[0m \u001b[0msrcnn\u001b[0m\u001b[0;34m\u001b[0m\u001b[0m\n\u001b[0;32m----> 4\u001b[0;31m \u001b[0;32mfrom\u001b[0m \u001b[0mvariables\u001b[0m \u001b[0;32mimport\u001b[0m \u001b[0;34m*\u001b[0m\u001b[0;34m\u001b[0m\u001b[0m\n\u001b[0m",
      "\u001b[0;32m~/Documents/BTP/Single-Image-Super-Resolution/variables.py\u001b[0m in \u001b[0;36m<module>\u001b[0;34m\u001b[0m\n\u001b[1;32m      7\u001b[0m \u001b[0;31m# Models and predict functions\u001b[0m\u001b[0;34m\u001b[0m\u001b[0;34m\u001b[0m\u001b[0m\n\u001b[1;32m      8\u001b[0m models = {\n\u001b[0;32m----> 9\u001b[0;31m     \u001b[0;34m'vdsr'\u001b[0m \u001b[0;34m:\u001b[0m \u001b[0mvdsr\u001b[0m\u001b[0;34m.\u001b[0m\u001b[0mpredict\u001b[0m\u001b[0;34m,\u001b[0m\u001b[0;34m\u001b[0m\u001b[0m\n\u001b[0m\u001b[1;32m     10\u001b[0m     \u001b[0;34m'srcnn'\u001b[0m \u001b[0;34m:\u001b[0m \u001b[0msrcnn\u001b[0m\u001b[0;34m.\u001b[0m\u001b[0mpredict\u001b[0m\u001b[0;34m\u001b[0m\u001b[0m\n\u001b[1;32m     11\u001b[0m }\n",
      "\u001b[0;31mNameError\u001b[0m: name 'vdsr' is not defined"
     ]
    }
   ],
   "source": [
    "from evaluate import *\n",
    "from variables import *"
   ]
  },
  {
   "cell_type": "markdown",
   "metadata": {},
   "source": [
    "# Comparing Models\n",
    "---\n",
    "### Generating LR, SR and HR images"
   ]
  },
  {
   "cell_type": "code",
   "execution_count": null,
   "metadata": {},
   "outputs": [],
   "source": [
    "# Pre-Process initial HR image\n",
    "def preprocess(image):\n",
    "    return imresize(image, hr_dim, interp='bicubic', mode=None)"
   ]
  },
  {
   "cell_type": "code",
   "execution_count": null,
   "metadata": {},
   "outputs": [],
   "source": [
    "# Loading HR Images\n",
    "hr = {}\n",
    "for im in images:\n",
    "    path = path_images + im + '.png'\n",
    "    image = cv2.imread(path, cv2.IMREAD_COLOR)\n",
    "    hr[im] = preprocess(image)\n",
    "    \n",
    "# { image_name : image }"
   ]
  },
  {
   "cell_type": "code",
   "execution_count": null,
   "metadata": {},
   "outputs": [],
   "source": [
    "# Down-Sampling Function\n",
    "def downsample(image, sf = scaling_factor):\n",
    "    image = imresize(image, [int(d/sf) for d in hr_dim], interp='bicubic', mode=None)\n",
    "    return imresize(image, hr_dim, interp='bicubic', mode=None)"
   ]
  },
  {
   "cell_type": "code",
   "execution_count": null,
   "metadata": {},
   "outputs": [],
   "source": [
    "# Generating LR images\n",
    "lr = {name : downsample(image) for name, image in hr.items()}\n",
    "\n",
    "# { image_name : image }"
   ]
  },
  {
   "cell_type": "code",
   "execution_count": null,
   "metadata": {
    "scrolled": false
   },
   "outputs": [],
   "source": [
    "# Predicting SR images\n",
    "sr = {}\n",
    "for model, predict in models.items():\n",
    "    sr_model = {}\n",
    "    for name, image in lr.items():\n",
    "        sr_model[name] = predict(image)\n",
    "    sr[model] = sr_model\n",
    "    \n",
    "# { model_name : { image_name : image } }"
   ]
  },
  {
   "cell_type": "markdown",
   "metadata": {},
   "source": [
    "### Generating Models JSON"
   ]
  },
  {
   "cell_type": "code",
   "execution_count": null,
   "metadata": {},
   "outputs": [],
   "source": [
    "for model in models:\n",
    "    results = {}\n",
    "    # { image_name : { metric : value } } - saved as model.json\n",
    "    \n",
    "    for name, image in sr[model].items():\n",
    "        metric_values = {}\n",
    "        for metric, func in metrics.items():\n",
    "            metric_values[metric] = func(image, hr[name])\n",
    "        results[name] = metric_values\n",
    "    \n",
    "    path = path_model_results + model + '.json'\n",
    "    with open(path, 'w') as file:\n",
    "        json.dump(results, file)"
   ]
  },
  {
   "cell_type": "markdown",
   "metadata": {},
   "source": [
    "### Visualizations"
   ]
  },
  {
   "cell_type": "code",
   "execution_count": null,
   "metadata": {
    "scrolled": true
   },
   "outputs": [],
   "source": [
    "plot_models = models.keys()\n",
    "plot_images = images\n",
    "\n",
    "for image in plot_images:\n",
    "    fig, sub = plt.subplots(1, len(plot_models)+2, figsize=(4*(len(plot_models)+2),4))\n",
    "    fig.suptitle(image.upper(), size=20)\n",
    "\n",
    "    sub[0].imshow(cv2.cvtColor(lr[image], cv2.COLOR_BGR2RGB))\n",
    "    sub[0].set_title('LR')\n",
    "\n",
    "    for index, model in enumerate(plot_models):\n",
    "        sub[index+1].imshow(cv2.cvtColor(sr[model][image], cv2.COLOR_BGR2RGB))\n",
    "        sub[index+1].set_title(model.upper())\n",
    "\n",
    "    sub[len(plot_models)+1].imshow(cv2.cvtColor(hr[image], cv2.COLOR_BGR2RGB))\n",
    "    sub[len(plot_models)+1].set_title('HR')\n",
    "\n",
    "    plt.show()"
   ]
  },
  {
   "cell_type": "markdown",
   "metadata": {},
   "source": [
    "# Varying Scaling Factors for VDSR\n",
    "---\n",
    "### Generating LR, SR images"
   ]
  },
  {
   "cell_type": "code",
   "execution_count": null,
   "metadata": {},
   "outputs": [],
   "source": [
    "# Generating LR images\n",
    "lr_scale = {}\n",
    "for name, image in hr.items():\n",
    "    lr_images = {}\n",
    "    for sf in scaling_factors:\n",
    "        lr_images[sf] = downsample(image, sf)\n",
    "    lr_scale[name] = lr_images\n",
    "    \n",
    "# { image_name : { scaling_factor : image } }"
   ]
  },
  {
   "cell_type": "code",
   "execution_count": null,
   "metadata": {},
   "outputs": [],
   "source": [
    "# Predicting SR images\n",
    "predict = models[scaling_model]\n",
    "sr_scale = {}\n",
    "for name, lr_images in lr_scale.items():\n",
    "    sr_images = {}\n",
    "    for sf, image in lr_images.items():\n",
    "        sr_images[sf] = predict(image)\n",
    "    sr_scale[name] = sr_images\n",
    "\n",
    "# { image_name : { scaling_factor : image } }"
   ]
  },
  {
   "cell_type": "markdown",
   "metadata": {},
   "source": [
    "### Scaling Factors JSON"
   ]
  },
  {
   "cell_type": "code",
   "execution_count": null,
   "metadata": {},
   "outputs": [],
   "source": [
    "for name, sr_images in sr_scale.items():\n",
    "    results = {}\n",
    "    # { scaling_factor : { metric : value } } - saved as image.json\n",
    "    \n",
    "    for sf, image in sr_images.items():\n",
    "        metric_values = {}\n",
    "        for metric, func in metrics.items():\n",
    "            metric_values[metric] = func(image, hr[name])\n",
    "        \n",
    "        results[str(sf)] = metric_values\n",
    "    \n",
    "    path = path_scaling_results + name + '.json'\n",
    "    with open(path, 'w') as file:\n",
    "        json.dump(results, file)"
   ]
  },
  {
   "cell_type": "markdown",
   "metadata": {},
   "source": [
    "### Visualizations"
   ]
  },
  {
   "cell_type": "code",
   "execution_count": null,
   "metadata": {
    "scrolled": true
   },
   "outputs": [],
   "source": [
    "plot_scales = scaling_factors\n",
    "plot_images = images\n",
    "\n",
    "for image in plot_images:\n",
    "    fig, sub = plt.subplots(2, len(plot_scales), figsize=(len(plot_scales)*4,8))\n",
    "    fig.suptitle(image.upper(), size=20)\n",
    "\n",
    "    for index, sf in enumerate(plot_scales):\n",
    "        sub[0,index].imshow(cv2.cvtColor(lr_scale[image][sf], cv2.COLOR_BGR2RGB))\n",
    "        sub[0,index].set_title('SF = ' + str(sf))\n",
    "        sub[1,index].imshow(cv2.cvtColor(sr_scale[image][sf], cv2.COLOR_BGR2RGB))"
   ]
  }
 ],
 "metadata": {
  "kernelspec": {
   "display_name": "VPython",
   "language": "python",
   "name": "vpython"
  },
  "language_info": {
   "codemirror_mode": {
    "name": "ipython",
    "version": 3
   },
   "file_extension": ".py",
   "mimetype": "text/x-python",
   "name": "python",
   "nbconvert_exporter": "python",
   "pygments_lexer": "ipython3",
   "version": "3.6.6"
  }
 },
 "nbformat": 4,
 "nbformat_minor": 2
}
